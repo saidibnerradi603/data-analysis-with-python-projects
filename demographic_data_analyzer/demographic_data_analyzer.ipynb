{
 "cells": [
  {
   "cell_type": "markdown",
   "id": "8d046b97-7b3a-4330-a0bd-0a3e10e16b13",
   "metadata": {},
   "source": [
    "## Demographic Data Analyzer"
   ]
  },
  {
   "cell_type": "markdown",
   "id": "ddad87a0-fe7d-44a5-b749-f2cc064f8ac3",
   "metadata": {},
   "source": [
    "In this challenge you must analyze demographic data using Pandas. You are given a dataset of demographic data that was extracted from the 1994 Census database. Here is a sample of what the data looks like:\n",
    "\n",
    "|    |   age | workclass        |   fnlwgt | education   |   education-num | marital-status     | occupation        | relationship   | race   | sex    |   capital-gain |   capital-loss |   hours-per-week | native-country   | salary   |\n",
    "|---:|------:|:-----------------|---------:|:------------|----------------:|:-------------------|:------------------|:---------------|:-------|:-------|---------------:|---------------:|-----------------:|:-----------------|:---------|\n",
    "|  0 |    39 | State-gov        |    77516 | Bachelors   |              13 | Never-married      | Adm-clerical      | Not-in-family  | White  | Male   |           2174 |              0 |               40 | United-States    | <=50K    |\n",
    "|  1 |    50 | Self-emp-not-inc |    83311 | Bachelors   |              13 | Married-civ-spouse | Exec-managerial   | Husband        | White  | Male   |              0 |              0 |               13 | United-States    | <=50K    |\n",
    "|  2 |    38 | Private          |   215646 | HS-grad     |               9 | Divorced           | Handlers-cleaners | Not-in-family  | White  | Male   |              0 |              0 |               40 | United-States    | <=50K    |\n",
    "|  3 |    53 | Private          |   234721 | 11th        |               7 | Married-civ-spouse | Handlers-cleaners | Husband        | Black  | Male   |              0 |              0 |               40 | United-States    | <=50K    |\n",
    "|  4 |    28 | Private          |   338409 | Bachelors   |              13 | Married-civ-spouse | Prof-specialty    | Wife           | Black  | Female |              0 |              0 |               40 | Cuba             | <=50K    |\n",
    "\n",
    "\n",
    "\n",
    "You must use Pandas to answer the following questions:\n",
    "\n",
    "- How many people of each race are represented in this dataset? This should be a Pandas series with race names as the index labels. (race column).\n",
    "- What is the average age of men?\n",
    "- What is the percentage of people who have a Bachelor's degree?\n",
    "- What percentage of people with advanced education (Bachelors, Masters, or Doctorate) make more than 50K?\n",
    "- What percentage of people without advanced education make more than 50K?\n",
    "- What is the minimum number of hours a person works per week?\n",
    "- What percentage of the people who work the minimum number of hours per week have a salary of more than 50K?\n",
    "- What country has the highest percentage of people that earn >50K and what is that percentage?\n",
    "- Identify the most popular occupation for those who earn >50K in India. in India."
   ]
  },
  {
   "cell_type": "code",
   "execution_count": 1,
   "id": "c09b94d7",
   "metadata": {},
   "outputs": [],
   "source": [
    "import numpy as np\n",
    "import pandas as pd"
   ]
  },
  {
   "cell_type": "markdown",
   "id": "4a8383af-367e-4384-b5b8-545aefd7fa81",
   "metadata": {},
   "source": [
    "__1. Read data__"
   ]
  },
  {
   "cell_type": "code",
   "execution_count": 4,
   "id": "4be7da0f-1fc9-4cfd-861f-8e3c0e5ebe34",
   "metadata": {},
   "outputs": [
    {
     "data": {
      "text/html": [
       "<div>\n",
       "<style scoped>\n",
       "    .dataframe tbody tr th:only-of-type {\n",
       "        vertical-align: middle;\n",
       "    }\n",
       "\n",
       "    .dataframe tbody tr th {\n",
       "        vertical-align: top;\n",
       "    }\n",
       "\n",
       "    .dataframe thead th {\n",
       "        text-align: right;\n",
       "    }\n",
       "</style>\n",
       "<table border=\"1\" class=\"dataframe\">\n",
       "  <thead>\n",
       "    <tr style=\"text-align: right;\">\n",
       "      <th></th>\n",
       "      <th>age</th>\n",
       "      <th>workclass</th>\n",
       "      <th>fnlwgt</th>\n",
       "      <th>education</th>\n",
       "      <th>education-num</th>\n",
       "      <th>marital-status</th>\n",
       "      <th>occupation</th>\n",
       "      <th>relationship</th>\n",
       "      <th>race</th>\n",
       "      <th>sex</th>\n",
       "      <th>capital-gain</th>\n",
       "      <th>capital-loss</th>\n",
       "      <th>hours-per-week</th>\n",
       "      <th>native-country</th>\n",
       "      <th>salary</th>\n",
       "    </tr>\n",
       "  </thead>\n",
       "  <tbody>\n",
       "    <tr>\n",
       "      <th>0</th>\n",
       "      <td>39</td>\n",
       "      <td>State-gov</td>\n",
       "      <td>77516</td>\n",
       "      <td>Bachelors</td>\n",
       "      <td>13</td>\n",
       "      <td>Never-married</td>\n",
       "      <td>Adm-clerical</td>\n",
       "      <td>Not-in-family</td>\n",
       "      <td>White</td>\n",
       "      <td>Male</td>\n",
       "      <td>2174</td>\n",
       "      <td>0</td>\n",
       "      <td>40</td>\n",
       "      <td>United-States</td>\n",
       "      <td>&lt;=50K</td>\n",
       "    </tr>\n",
       "    <tr>\n",
       "      <th>1</th>\n",
       "      <td>50</td>\n",
       "      <td>Self-emp-not-inc</td>\n",
       "      <td>83311</td>\n",
       "      <td>Bachelors</td>\n",
       "      <td>13</td>\n",
       "      <td>Married-civ-spouse</td>\n",
       "      <td>Exec-managerial</td>\n",
       "      <td>Husband</td>\n",
       "      <td>White</td>\n",
       "      <td>Male</td>\n",
       "      <td>0</td>\n",
       "      <td>0</td>\n",
       "      <td>13</td>\n",
       "      <td>United-States</td>\n",
       "      <td>&lt;=50K</td>\n",
       "    </tr>\n",
       "    <tr>\n",
       "      <th>2</th>\n",
       "      <td>38</td>\n",
       "      <td>Private</td>\n",
       "      <td>215646</td>\n",
       "      <td>HS-grad</td>\n",
       "      <td>9</td>\n",
       "      <td>Divorced</td>\n",
       "      <td>Handlers-cleaners</td>\n",
       "      <td>Not-in-family</td>\n",
       "      <td>White</td>\n",
       "      <td>Male</td>\n",
       "      <td>0</td>\n",
       "      <td>0</td>\n",
       "      <td>40</td>\n",
       "      <td>United-States</td>\n",
       "      <td>&lt;=50K</td>\n",
       "    </tr>\n",
       "  </tbody>\n",
       "</table>\n",
       "</div>"
      ],
      "text/plain": [
       "   age         workclass  fnlwgt  education  education-num  \\\n",
       "0   39         State-gov   77516  Bachelors             13   \n",
       "1   50  Self-emp-not-inc   83311  Bachelors             13   \n",
       "2   38           Private  215646    HS-grad              9   \n",
       "\n",
       "       marital-status         occupation   relationship   race   sex  \\\n",
       "0       Never-married       Adm-clerical  Not-in-family  White  Male   \n",
       "1  Married-civ-spouse    Exec-managerial        Husband  White  Male   \n",
       "2            Divorced  Handlers-cleaners  Not-in-family  White  Male   \n",
       "\n",
       "   capital-gain  capital-loss  hours-per-week native-country salary  \n",
       "0          2174             0              40  United-States  <=50K  \n",
       "1             0             0              13  United-States  <=50K  \n",
       "2             0             0              40  United-States  <=50K  "
      ]
     },
     "execution_count": 4,
     "metadata": {},
     "output_type": "execute_result"
    }
   ],
   "source": [
    "df=pd.read_csv(\"data/adult.data.csv\")\n",
    "df.head(3)"
   ]
  },
  {
   "cell_type": "markdown",
   "id": "906088f8-870c-4ad1-85b7-73e6e4311847",
   "metadata": {},
   "source": [
    "__2. How many of each race are represented in this dataset? This should be a Pandas series with race names as the index labels.__"
   ]
  },
  {
   "cell_type": "code",
   "execution_count": 5,
   "id": "b495cace-2367-4d5a-bf23-428ba44d5ddd",
   "metadata": {},
   "outputs": [
    {
     "data": {
      "text/plain": [
       "race\n",
       "White                 27816\n",
       "Black                  3124\n",
       "Asian-Pac-Islander     1039\n",
       "Amer-Indian-Eskimo      311\n",
       "Other                   271\n",
       "Name: count, dtype: int64"
      ]
     },
     "execution_count": 5,
     "metadata": {},
     "output_type": "execute_result"
    }
   ],
   "source": [
    "race_count=df[\"race\"].value_counts()\n",
    "race_count"
   ]
  },
  {
   "cell_type": "markdown",
   "id": "72350fff-842c-4d85-9d4b-af3f35936091",
   "metadata": {},
   "source": [
    "__3. What is the average age of men?__"
   ]
  },
  {
   "cell_type": "code",
   "execution_count": 6,
   "id": "130a6b75-c440-44d4-889f-d4a50997ae46",
   "metadata": {},
   "outputs": [
    {
     "name": "stdout",
     "output_type": "stream",
     "text": [
      "39.43354749885268\n"
     ]
    }
   ],
   "source": [
    "average_age_men=df.groupby(\"sex\")[\"age\"].mean()\n",
    "print(average_age_men[\"Male\"])"
   ]
  },
  {
   "cell_type": "markdown",
   "id": "b1c12805-ec99-4aad-8e5a-f890ffec54a0",
   "metadata": {},
   "source": [
    "__4. What is the percentage of people who have a Bachelor's degree?__"
   ]
  },
  {
   "cell_type": "code",
   "execution_count": 7,
   "id": "f0df7b7d-ad4d-44df-b501-46d27244795e",
   "metadata": {},
   "outputs": [
    {
     "data": {
      "text/plain": [
       "16.44605509658794"
      ]
     },
     "execution_count": 7,
     "metadata": {},
     "output_type": "execute_result"
    }
   ],
   "source": [
    "percentage_bachelors=(len(df[df[\"education\"]==\"Bachelors\"])/len(df))*100\n",
    "percentage_bachelors"
   ]
  },
  {
   "cell_type": "markdown",
   "id": "29af4bc5-749e-4ce9-92be-6c31a5226aa2",
   "metadata": {},
   "source": [
    "__5.  What percentage of people with advanced education (`Bachelors`, `Masters`, or `Doctorate`) make more than 50K?__\n",
    "\n",
    "__6. What percentage of people without advanced education make more than 50K?__"
   ]
  },
  {
   "cell_type": "code",
   "execution_count": 8,
   "id": "89b6383e-f77b-4b11-bc97-97c1aca9b0e2",
   "metadata": {},
   "outputs": [
    {
     "name": "stdout",
     "output_type": "stream",
     "text": [
      "Percentage of people with advanced education making more than 50K: 46.54%\n",
      "Percentage of people without advanced education making more than 50K: 17.37%\n"
     ]
    }
   ],
   "source": [
    "advanced_education = [\"Bachelors\", \"Masters\", \"Doctorate\"]\n",
    "higher_education = df[df[\"education\"].isin(advanced_education)]\n",
    "\n",
    "lower_education = df[~df[\"education\"].isin(advanced_education)]\n",
    "\n",
    "# Calculate percentage of people with advanced education making more than 50K\n",
    "higher_education_rich = (len(higher_education[higher_education[\"salary\"] == \">50K\"]) / len(higher_education)) * 100\n",
    "\n",
    "# Calculate percentage of people without advanced education making more than 50K\n",
    "lower_education_rich = (len(lower_education[lower_education[\"salary\"] == \">50K\"]) / len(lower_education)) * 100\n",
    "\n",
    "print(\"Percentage of people with advanced education making more than 50K: {:.2f}%\".format(higher_education_rich))\n",
    "print(\"Percentage of people without advanced education making more than 50K: {:.2f}%\".format(lower_education_rich))"
   ]
  },
  {
   "cell_type": "markdown",
   "id": "16376871-f0bf-4202-a768-0ebb02170e51",
   "metadata": {},
   "source": [
    "__7. What is the minimum number of hours a person works per week (hours-per-week feature)?__"
   ]
  },
  {
   "cell_type": "code",
   "execution_count": 9,
   "id": "18e95fa7-4f51-43fb-8412-5a7c80d5449e",
   "metadata": {},
   "outputs": [
    {
     "name": "stdout",
     "output_type": "stream",
     "text": [
      " Minimum number of hours a person works per week: 1\n"
     ]
    }
   ],
   "source": [
    "min_work_hours=df[\"hours-per-week\"].min()\n",
    "print(\" Minimum number of hours a person works per week:\" , min_work_hours)"
   ]
  },
  {
   "cell_type": "markdown",
   "id": "e0d4d19d-9ab4-4fc5-bbef-0af7770de740",
   "metadata": {},
   "source": [
    "__8. What percentage of the people who work the minimum number of hours per week have a salary of >50K?__"
   ]
  },
  {
   "cell_type": "code",
   "execution_count": 10,
   "id": "eba237e4-02a3-4dff-94d3-ea035a0038dd",
   "metadata": {},
   "outputs": [
    {
     "name": "stdout",
     "output_type": "stream",
     "text": [
      "Percentage of the people who work the minimum number of hours per week have a salary of >50K: 10.00%\n"
     ]
    }
   ],
   "source": [
    "num_min_workers=df[df[\"hours-per-week\"]==min_work_hours]\n",
    "rich_percentage=len(num_min_workers[num_min_workers[\"salary\"]==\">50K\"])/len(num_min_workers)\n",
    "print(\"Percentage of the people who work the minimum number of hours per week have a salary of >50K: {:.2f}%\".format(rich_percentage*100))"
   ]
  },
  {
   "cell_type": "markdown",
   "id": "7295bc7c-0643-4e58-87a0-bce78615901c",
   "metadata": {},
   "source": [
    "__9. What country has the highest percentage of people that earn >50K?__"
   ]
  },
  {
   "cell_type": "code",
   "execution_count": 11,
   "id": "835c05f0-73a7-4be9-b75c-b0dd004aef9c",
   "metadata": {},
   "outputs": [
    {
     "name": "stdout",
     "output_type": "stream",
     "text": [
      "Country with the highest percentage of people earning >50K: Iran\n",
      "Percentage of people earning >50K in that country: 41.86046511627907\n"
     ]
    }
   ],
   "source": [
    "c_salary_counts = df[df['salary'] == '>50K'].groupby('native-country').size()\n",
    "\n",
    "c_total_counts = df.groupby('native-country').size()\n",
    "\n",
    "country_percentages = (c_salary_counts / c_total_counts) * 100\n",
    "\n",
    "highest_earning_country = country_percentages.idxmax()\n",
    "highest_earning_country_percentage = country_percentages.max()\n",
    "\n",
    "print(\"Country with the highest percentage of people earning >50K:\", highest_earning_country)\n",
    "print(\"Percentage of people earning >50K in that country:\", highest_earning_country_percentage)"
   ]
  },
  {
   "cell_type": "markdown",
   "id": "a32b94b4-f104-43d6-9d5f-06aa935a58b1",
   "metadata": {},
   "source": [
    "__10. Identify the most popular occupation for those who earn >50K in India.__"
   ]
  },
  {
   "cell_type": "code",
   "execution_count": 12,
   "id": "75c818a1-da7d-4010-a824-747b818b915c",
   "metadata": {},
   "outputs": [
    {
     "name": "stdout",
     "output_type": "stream",
     "text": [
      "Most popular occupation for those who earn >50K in India: Prof-specialty\n"
     ]
    }
   ],
   "source": [
    "indian_high_earners = df[(df['native-country'] == 'India') & (df['salary'] == '>50K')]\n",
    "\n",
    "occupation_counts = indian_high_earners['occupation'].value_counts()\n",
    "\n",
    "\n",
    "top_IN_occupation = occupation_counts.idxmax()\n",
    "\n",
    "print(\"Most popular occupation for those who earn >50K in India:\", top_IN_occupation)"
   ]
  }
 ],
 "metadata": {
  "kernelspec": {
   "display_name": "Python 3 (ipykernel)",
   "language": "python",
   "name": "python3"
  },
  "language_info": {
   "codemirror_mode": {
    "name": "ipython",
    "version": 3
   },
   "file_extension": ".py",
   "mimetype": "text/x-python",
   "name": "python",
   "nbconvert_exporter": "python",
   "pygments_lexer": "ipython3",
   "version": "3.11.7"
  }
 },
 "nbformat": 4,
 "nbformat_minor": 5
}
